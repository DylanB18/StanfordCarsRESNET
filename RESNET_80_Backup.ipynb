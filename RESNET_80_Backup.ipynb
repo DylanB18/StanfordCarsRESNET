{
  "nbformat": 4,
  "nbformat_minor": 0,
  "metadata": {
    "colab": {
      "name": "CARSTransferLearning",
      "provenance": [],
      "collapsed_sections": []
    },
    "kernelspec": {
      "name": "python3",
      "display_name": "Python 3"
    },
    "accelerator": "GPU"
  },
  "cells": [
    {
      "cell_type": "code",
      "metadata": {
        "id": "--78ToSjYYwD",
        "colab_type": "code",
        "colab": {}
      },
      "source": [
        "import tensorflow as tf\n",
        "from tensorflow.keras.preprocessing.image import ImageDataGenerator\n",
        "from tensorflow.keras.applications.resnet50 import ResNet50\n",
        "import os\n",
        "import tarfile\n",
        "import scipy.io as sio\n",
        "import numpy as np\n",
        "import random\n",
        "import cv2"
      ],
      "execution_count": 14,
      "outputs": []
    },
    {
      "cell_type": "code",
      "metadata": {
        "id": "wGn6XkMAZGcB",
        "colab_type": "code",
        "colab": {}
      },
      "source": [
        "def save_train_data(fnames, labels, bboxes):\n",
        "    src_folder ='/tmp/car_ims'\n",
        "    num_samples = len(fnames)\n",
        "\n",
        "    train_split = 0.8\n",
        "    num_train = int(round(num_samples * train_split))\n",
        "    train_indexes = random.sample(range(num_samples), num_train)\n",
        "\n",
        "    for i in range(num_samples):\n",
        "        fname = fnames[i][8:]\n",
        "        label = labels[i]\n",
        "        (x1, y1, x2, y2) = bboxes[i]\n",
        "        src_path = os.path.join(src_folder, fname)\n",
        "\n",
        "        src_image = cv2.imread(src_path)\n",
        "        height, width = src_image.shape[:2]\n",
        "\n",
        "        # margins of 16 pixels (Crop image according to a given bounding box)\n",
        "        margin = 16\n",
        "        x1 = max(0, x1 - margin)\n",
        "        y1 = max(0, y1 - margin)\n",
        "        x2 = min(x2 + margin, width)\n",
        "        y2 = min(y2 + margin, height)\n",
        "\n",
        "        if i in train_indexes:\n",
        "            dst_folder = '/tmp/car_ims/train/'\n",
        "        else:\n",
        "            dst_folder = '/tmp/car_ims/valid/'\n",
        "\n",
        "        dst_path = os.path.join(dst_folder, label)\n",
        "        if not os.path.exists(dst_path):\n",
        "            os.makedirs(dst_path)\n",
        "        dst_path = os.path.join(dst_path, fname)\n",
        "        dst_image = src_image[y1:y2, x1:x2]\n",
        "        cv2.imwrite(dst_path, dst_image)"
      ],
      "execution_count": 15,
      "outputs": []
    },
    {
      "cell_type": "code",
      "metadata": {
        "id": "caRoYs8dZI2v",
        "colab_type": "code",
        "colab": {
          "base_uri": "https://localhost:8080/",
          "height": 165
        },
        "outputId": "79bcb7e3-9b2f-4458-be9b-9d7ddfa9ef25"
      },
      "source": [
        "!wget --no-check-certificate \\\n",
        "  http://imagenet.stanford.edu/internal/car196/car_ims.tgz \\\n",
        "  -O /tmp/car_ims.tgz"
      ],
      "execution_count": null,
      "outputs": [
        {
          "output_type": "stream",
          "text": [
            "--2020-07-24 00:45:11--  http://imagenet.stanford.edu/internal/car196/car_ims.tgz\n",
            "Resolving imagenet.stanford.edu (imagenet.stanford.edu)... 171.64.68.16\n",
            "Connecting to imagenet.stanford.edu (imagenet.stanford.edu)|171.64.68.16|:80... connected.\n",
            "HTTP request sent, awaiting response... 200 OK\n",
            "Length: 1956628579 (1.8G) [application/x-gzip]\n",
            "Saving to: ‘/tmp/car_ims.tgz’\n",
            "\n",
            "/tmp/car_ims.tgz     22%[===>                ] 416.57M  56.0MB/s    eta 22s    "
          ],
          "name": "stdout"
        }
      ]
    },
    {
      "cell_type": "code",
      "metadata": {
        "id": "EeWj_MasZM_9",
        "colab_type": "code",
        "colab": {}
      },
      "source": [
        "!wget --no-check-certificate \\\n",
        "  http://imagenet.stanford.edu/internal/car196/cars_annos.mat \\\n",
        "  -O /tmp/cars_annos.mat"
      ],
      "execution_count": null,
      "outputs": []
    },
    {
      "cell_type": "code",
      "metadata": {
        "id": "OQ0OvkEIZO4e",
        "colab_type": "code",
        "colab": {}
      },
      "source": [
        "!wget --no-check-certificate \\\n",
        "  http://imagenet.stanford.edu/internal/car196/cars_test_annos_withlabels.mat \\\n",
        "  -O /tmp/cars_test_annos.mat"
      ],
      "execution_count": null,
      "outputs": []
    },
    {
      "cell_type": "code",
      "metadata": {
        "id": "IniRzs9DZT2m",
        "colab_type": "code",
        "colab": {}
      },
      "source": [
        "local_tar = '/tmp/car_ims.tgz'\n",
        "my_tar = tarfile.open(local_tar)\n",
        "my_tar.extractall('/tmp')\n",
        "my_tar.close()"
      ],
      "execution_count": null,
      "outputs": []
    },
    {
      "cell_type": "code",
      "metadata": {
        "id": "ora-HzL7ZV3X",
        "colab_type": "code",
        "colab": {}
      },
      "source": [
        "car_annotation= sio.loadmat('/tmp/cars_annos.mat')\n",
        "\n",
        "annotations = car_annotation['annotations']\n",
        "annotations = np.transpose(annotations)\n",
        "\n",
        "fnames = []\n",
        "class_ids = []\n",
        "labels = []\n",
        "bboxes  = []\n",
        "for annotation in annotations:\n",
        "  bbox_x1 = annotation[0][1][0][0]\n",
        "  bbox_y1 = annotation[0][2][0][0]\n",
        "  bbox_x2 = annotation[0][3][0][0]\n",
        "  bbox_y2 = annotation[0][4][0][0]\n",
        "\n",
        "  class_id = annotation[0][5][0][0]\n",
        "  bboxes.append((bbox_x1, bbox_y1, bbox_x2, bbox_y2))\n",
        "  labels.append(f'{class_id:06}')\n",
        "\n",
        "  file_name = annotation[0][0][0]\n",
        "  class_ids.append(class_id)\n",
        "  fnames.append(file_name)\n",
        "\n",
        "labels_count = np.unique(class_ids).shape[0]\n",
        "print(np.unique(class_ids))\n",
        "print('The number of different cars is %d' % labels_count)\n",
        "\n",
        "save_train_data(fnames, labels, bboxes)"
      ],
      "execution_count": null,
      "outputs": []
    },
    {
      "cell_type": "code",
      "metadata": {
        "id": "q5rCgLPTZWQd",
        "colab_type": "code",
        "colab": {}
      },
      "source": [
        "datagen = ImageDataGenerator()\n",
        "train_iter = datagen.flow_from_directory('/tmp/car_ims/train/', class_mode='categorical', target_size=(150,150), batch_size=64)\n",
        "test_iter = datagen.flow_from_directory('/tmp/car_ims/valid/', class_mode='categorical', target_size=(150,150), batch_size=64)"
      ],
      "execution_count": null,
      "outputs": []
    },
    {
      "cell_type": "code",
      "metadata": {
        "id": "hDKcivAObQZq",
        "colab_type": "code",
        "colab": {}
      },
      "source": [
        "from tensorflow.keras import layers\n",
        "\n",
        "new_input = layers.Input(shape=(150, 150, 3))\n",
        "resnet50_imagenet_model = ResNet50(include_top=False, weights='imagenet', input_shape=(150, 150, 3))\n",
        "\n",
        "flattened = tf.keras.layers.Flatten()(resnet50_imagenet_model.output)"
      ],
      "execution_count": null,
      "outputs": []
    },
    {
      "cell_type": "code",
      "metadata": {
        "id": "FvyptyPlFngp",
        "colab_type": "code",
        "colab": {}
      },
      "source": [
        "fc1 = tf.keras.layers.Dense(1028, activation='relu', name=\"AddedDense1\")(flattened)\n",
        "batch2 = tf.keras.layers.BatchNormalization()\n",
        "fc2 = tf.keras.layers.Dense(196, activation='softmax', name=\"AddedDense2\")(fc1)\n",
        "\n",
        "model = tf.keras.models.Model(inputs=resnet50_imagenet_model.input, outputs=fc2) \n",
        "\n",
        "model.compile(\n",
        "    optimizer='adam',\n",
        "    loss='categorical_crossentropy',\n",
        "    metrics=['accuracy']\n",
        ")"
      ],
      "execution_count": null,
      "outputs": []
    },
    {
      "cell_type": "code",
      "metadata": {
        "id": "CyeDsYsdF8QM",
        "colab_type": "code",
        "colab": {
          "base_uri": "https://localhost:8080/",
          "height": 289
        },
        "outputId": "f605ee8a-dca6-4c73-8f9e-c607e6b50d71"
      },
      "source": [
        "cars = model.fit(train_iter, epochs=30, validation_data=test_iter)"
      ],
      "execution_count": null,
      "outputs": [
        {
          "output_type": "stream",
          "text": [
            "Epoch 1/8\n",
            "203/203 [==============================] - 99s 486ms/step - loss: 3.2370 - accuracy: 0.2645 - val_loss: 15.3640 - val_accuracy: 0.2783\n",
            "Epoch 2/8\n",
            "203/203 [==============================] - 99s 490ms/step - loss: 1.2780 - accuracy: 0.6402 - val_loss: 3.2081 - val_accuracy: 0.3488\n",
            "Epoch 3/8\n",
            "203/203 [==============================] - 101s 498ms/step - loss: 0.5616 - accuracy: 0.8311 - val_loss: 3.4875 - val_accuracy: 0.3750\n",
            "Epoch 4/8\n",
            "203/203 [==============================] - 99s 487ms/step - loss: 0.3674 - accuracy: 0.8888 - val_loss: 3.6682 - val_accuracy: 0.3611\n",
            "Epoch 5/8\n",
            "203/203 [==============================] - 97s 479ms/step - loss: 0.2796 - accuracy: 0.9190 - val_loss: 3.9087 - val_accuracy: 0.3991\n",
            "Epoch 6/8\n",
            "203/203 [==============================] - 98s 483ms/step - loss: 0.1973 - accuracy: 0.9382 - val_loss: 3.0635 - val_accuracy: 0.4612\n",
            "Epoch 7/8\n",
            "203/203 [==============================] - 98s 483ms/step - loss: 0.1333 - accuracy: 0.9612 - val_loss: 2.9453 - val_accuracy: 0.4449\n",
            "Epoch 8/8\n",
            "203/203 [==============================] - 99s 486ms/step - loss: 0.1426 - accuracy: 0.9595 - val_loss: 3.1876 - val_accuracy: 0.4337\n"
          ],
          "name": "stdout"
        }
      ]
    }
  ]
}